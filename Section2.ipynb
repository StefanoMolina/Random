{
  "nbformat": 4,
  "nbformat_minor": 0,
  "metadata": {
    "colab": {
      "provenance": [],
      "authorship_tag": "ABX9TyOMKGrSF+dLwPQJ3WqHi0CO"
    },
    "kernelspec": {
      "name": "python3",
      "display_name": "Python 3"
    },
    "language_info": {
      "name": "python"
    }
  },
  "cells": [
    {
      "cell_type": "markdown",
      "source": [
        "### **2**"
      ],
      "metadata": {
        "id": "emOz-65mtzCO"
      }
    },
    {
      "cell_type": "code",
      "execution_count": 89,
      "metadata": {
        "id": "pYQ0QN26oSwG"
      },
      "outputs": [],
      "source": [
        "import pandas as pd\n",
        "from datetime import datetime\n",
        "import numpy as np\n",
        "from sklearn.ensemble import RandomForestClassifier\n",
        "from sklearn.model_selection import train_test_split, GridSearchCV\n",
        "from sklearn.metrics import accuracy_score, f1_score, confusion_matrix, recall_score, precision_score\n",
        "from sklearn.preprocessing import StandardScaler\n",
        "from sklearn.impute import SimpleImputer\n",
        "from sklearn.pipeline import Pipeline\n",
        "from sklearn.compose import make_column_transformer"
      ]
    },
    {
      "cell_type": "code",
      "source": [
        "df = pd.read_csv('/content/RC/challenge_data.csv')\n",
        "\n",
        "df['last_change_date'] = pd.to_datetime(df['last_change_date'])\n",
        "df['year'] = df['last_change_date'].dt.year\n",
        "df['month'] = df['last_change_date'].dt.month\n",
        "df['day'] = df['last_change_date'].dt.day\n",
        "df['year'] = df['year'].fillna(0)\n",
        "df['month'] = df['month'].fillna(0)\n",
        "df['day'] = df['day'].fillna(0)\n",
        "\n",
        "y = df.impago\n",
        "X = df.drop(['impago', 'id', 'last_change_date'], axis = 1)\n",
        "for column in X.select_dtypes(include=['object']).columns:\n",
        "    X[column] = X[column].astype('int64')\n",
        "\n",
        "df.shape"
      ],
      "metadata": {
        "colab": {
          "base_uri": "https://localhost:8080/"
        },
        "id": "nX-u045iodBU",
        "outputId": "813fe074-8741-41ab-cd2f-b8c0ce201a87"
      },
      "execution_count": 74,
      "outputs": [
        {
          "output_type": "execute_result",
          "data": {
            "text/plain": [
              "(200000, 36)"
            ]
          },
          "metadata": {},
          "execution_count": 74
        }
      ]
    },
    {
      "cell_type": "code",
      "source": [
        "df.dtypes"
      ],
      "metadata": {
        "colab": {
          "base_uri": "https://localhost:8080/"
        },
        "id": "bmBtPDEX6JN8",
        "outputId": "cc7c222b-db39-41f2-ebbe-2bddbf5c5137"
      },
      "execution_count": 75,
      "outputs": [
        {
          "output_type": "execute_result",
          "data": {
            "text/plain": [
              "id                                            object\n",
              "num_cuentas_activas                            int64\n",
              "num_cuentas_cerradas                           int64\n",
              "max_credit                                   float64\n",
              "mean_credit                                  float64\n",
              "total_credit                                 float64\n",
              "mean_balance                                 float64\n",
              "total_balance                                float64\n",
              "total_utilizacion                            float64\n",
              "monto_en_mora                                float64\n",
              "pagos_vencidos                                 int64\n",
              "banco_count                                    int64\n",
              "banco_limite                                   int64\n",
              "banco_utilizacion                            float64\n",
              "last_change_date                      datetime64[ns]\n",
              "first_amount                                 float64\n",
              "last_amount                                  float64\n",
              "times_increased                                int64\n",
              "max_increase                                   int64\n",
              "min_increase                                   int64\n",
              "dias_de_impagador                              int64\n",
              "facturacion_rappicard_mes_anterior           float64\n",
              "antiguedad_meses                               int64\n",
              "account_limit                                float64\n",
              "pago_minimo_al_corte                         float64\n",
              "pago_para_no_generar_interes                 float64\n",
              "total_pagos                                  float64\n",
              "total_gastos                                 float64\n",
              "porcentaje_uso_limite_de_cuenta              float64\n",
              "porcentaje_compras_msi                       float64\n",
              "porcentaje_compras_mci                       float64\n",
              "porcentaje_rubros_basicos                    float64\n",
              "impago                                         int64\n",
              "year                                         float64\n",
              "month                                        float64\n",
              "day                                          float64\n",
              "dtype: object"
            ]
          },
          "metadata": {},
          "execution_count": 75
        }
      ]
    },
    {
      "cell_type": "code",
      "source": [
        "#Genera pipeline para las variables numericas que son todas\n",
        "#aqui no se estandariza ya que los arboles y por lo tanto los bosques\n",
        "#no muestran grandes cambios se haga o no\n",
        "num_transformer = Pipeline([('imputer', SimpleImputer(strategy='median'))])\n",
        "num_cols = X.select_dtypes(include=['int64', 'float64']).columns\n",
        "\n",
        "prep = make_column_transformer((num_transformer, num_cols),\n",
        "                               remainder= 'passthrough')"
      ],
      "metadata": {
        "id": "s8iW1MyOv1Iy"
      },
      "execution_count": 76,
      "outputs": []
    },
    {
      "cell_type": "code",
      "source": [
        "X_train, X_test, y_train, y_test = train_test_split(X, y, test_size = 0.2, random_state = 16)\n",
        "\n",
        "X_train, X_val, y_train, y_val = train_test_split(X_train, y_train, test_size = 0.25, random_state = 16)\n",
        "\n",
        "mod = RandomForestClassifier(class_weight=\"balanced\")\n",
        "\n",
        "pipe = Pipeline([('preprocessor', prep),\n",
        "                ('model', mod)])\n",
        "\n",
        "params = {\n",
        "    'model__n_estimators': [100, 200, 300],\n",
        "    'model__max_depth': [None, 10, 20],\n",
        "    'model__min_samples_split': [2, 5, 10]\n",
        "}\n",
        "\n",
        "gs = GridSearchCV(pipe, param_grid=params, scoring = \"f1\", cv = 5, n_jobs = -1)\n",
        "\n",
        "gs.fit(X_train, y_train)"
      ],
      "metadata": {
        "colab": {
          "base_uri": "https://localhost:8080/",
          "height": 267
        },
        "id": "GWEm0uuhuI_j",
        "outputId": "4aaf2378-1b62-47af-a829-d3b2c7d5014f"
      },
      "execution_count": 77,
      "outputs": [
        {
          "output_type": "stream",
          "name": "stderr",
          "text": [
            "/usr/local/lib/python3.10/dist-packages/joblib/externals/loky/process_executor.py:752: UserWarning: A worker stopped while some jobs were given to the executor. This can be caused by a too short worker timeout or by a memory leak.\n",
            "  warnings.warn(\n"
          ]
        },
        {
          "output_type": "execute_result",
          "data": {
            "text/plain": [
              "GridSearchCV(cv=5,\n",
              "             estimator=Pipeline(steps=[('preprocessor',\n",
              "                                        ColumnTransformer(remainder='passthrough',\n",
              "                                                          transformers=[('pipeline',\n",
              "                                                                         Pipeline(steps=[('imputer',\n",
              "                                                                                          SimpleImputer(strategy='median'))]),\n",
              "                                                                         Index(['num_cuentas_activas', 'num_cuentas_cerradas', 'max_credit',\n",
              "       'mean_credit', 'total_credit', 'mean_balance', 'total_balance',\n",
              "       'total_utilizacion', 'monto_en_mora...\n",
              "       'total_pagos', 'total_gastos', 'porcentaje_uso_limite_de_cuenta',\n",
              "       'porcentaje_compras_msi', 'porcentaje_compras_mci',\n",
              "       'porcentaje_rubros_basicos', 'year', 'month', 'day'],\n",
              "      dtype='object'))])),\n",
              "                                       ('model',\n",
              "                                        RandomForestClassifier(class_weight='balanced'))]),\n",
              "             n_jobs=-1,\n",
              "             param_grid={'model__max_depth': [None, 10, 20],\n",
              "                         'model__min_samples_split': [2, 5, 10],\n",
              "                         'model__n_estimators': [100, 200, 300]},\n",
              "             scoring='f1')"
            ],
            "text/html": [
              "<style>#sk-container-id-7 {color: black;background-color: white;}#sk-container-id-7 pre{padding: 0;}#sk-container-id-7 div.sk-toggleable {background-color: white;}#sk-container-id-7 label.sk-toggleable__label {cursor: pointer;display: block;width: 100%;margin-bottom: 0;padding: 0.3em;box-sizing: border-box;text-align: center;}#sk-container-id-7 label.sk-toggleable__label-arrow:before {content: \"▸\";float: left;margin-right: 0.25em;color: #696969;}#sk-container-id-7 label.sk-toggleable__label-arrow:hover:before {color: black;}#sk-container-id-7 div.sk-estimator:hover label.sk-toggleable__label-arrow:before {color: black;}#sk-container-id-7 div.sk-toggleable__content {max-height: 0;max-width: 0;overflow: hidden;text-align: left;background-color: #f0f8ff;}#sk-container-id-7 div.sk-toggleable__content pre {margin: 0.2em;color: black;border-radius: 0.25em;background-color: #f0f8ff;}#sk-container-id-7 input.sk-toggleable__control:checked~div.sk-toggleable__content {max-height: 200px;max-width: 100%;overflow: auto;}#sk-container-id-7 input.sk-toggleable__control:checked~label.sk-toggleable__label-arrow:before {content: \"▾\";}#sk-container-id-7 div.sk-estimator input.sk-toggleable__control:checked~label.sk-toggleable__label {background-color: #d4ebff;}#sk-container-id-7 div.sk-label input.sk-toggleable__control:checked~label.sk-toggleable__label {background-color: #d4ebff;}#sk-container-id-7 input.sk-hidden--visually {border: 0;clip: rect(1px 1px 1px 1px);clip: rect(1px, 1px, 1px, 1px);height: 1px;margin: -1px;overflow: hidden;padding: 0;position: absolute;width: 1px;}#sk-container-id-7 div.sk-estimator {font-family: monospace;background-color: #f0f8ff;border: 1px dotted black;border-radius: 0.25em;box-sizing: border-box;margin-bottom: 0.5em;}#sk-container-id-7 div.sk-estimator:hover {background-color: #d4ebff;}#sk-container-id-7 div.sk-parallel-item::after {content: \"\";width: 100%;border-bottom: 1px solid gray;flex-grow: 1;}#sk-container-id-7 div.sk-label:hover label.sk-toggleable__label {background-color: #d4ebff;}#sk-container-id-7 div.sk-serial::before {content: \"\";position: absolute;border-left: 1px solid gray;box-sizing: border-box;top: 0;bottom: 0;left: 50%;z-index: 0;}#sk-container-id-7 div.sk-serial {display: flex;flex-direction: column;align-items: center;background-color: white;padding-right: 0.2em;padding-left: 0.2em;position: relative;}#sk-container-id-7 div.sk-item {position: relative;z-index: 1;}#sk-container-id-7 div.sk-parallel {display: flex;align-items: stretch;justify-content: center;background-color: white;position: relative;}#sk-container-id-7 div.sk-item::before, #sk-container-id-7 div.sk-parallel-item::before {content: \"\";position: absolute;border-left: 1px solid gray;box-sizing: border-box;top: 0;bottom: 0;left: 50%;z-index: -1;}#sk-container-id-7 div.sk-parallel-item {display: flex;flex-direction: column;z-index: 1;position: relative;background-color: white;}#sk-container-id-7 div.sk-parallel-item:first-child::after {align-self: flex-end;width: 50%;}#sk-container-id-7 div.sk-parallel-item:last-child::after {align-self: flex-start;width: 50%;}#sk-container-id-7 div.sk-parallel-item:only-child::after {width: 0;}#sk-container-id-7 div.sk-dashed-wrapped {border: 1px dashed gray;margin: 0 0.4em 0.5em 0.4em;box-sizing: border-box;padding-bottom: 0.4em;background-color: white;}#sk-container-id-7 div.sk-label label {font-family: monospace;font-weight: bold;display: inline-block;line-height: 1.2em;}#sk-container-id-7 div.sk-label-container {text-align: center;}#sk-container-id-7 div.sk-container {/* jupyter's `normalize.less` sets `[hidden] { display: none; }` but bootstrap.min.css set `[hidden] { display: none !important; }` so we also need the `!important` here to be able to override the default hidden behavior on the sphinx rendered scikit-learn.org. See: https://github.com/scikit-learn/scikit-learn/issues/21755 */display: inline-block !important;position: relative;}#sk-container-id-7 div.sk-text-repr-fallback {display: none;}</style><div id=\"sk-container-id-7\" class=\"sk-top-container\"><div class=\"sk-text-repr-fallback\"><pre>GridSearchCV(cv=5,\n",
              "             estimator=Pipeline(steps=[(&#x27;preprocessor&#x27;,\n",
              "                                        ColumnTransformer(remainder=&#x27;passthrough&#x27;,\n",
              "                                                          transformers=[(&#x27;pipeline&#x27;,\n",
              "                                                                         Pipeline(steps=[(&#x27;imputer&#x27;,\n",
              "                                                                                          SimpleImputer(strategy=&#x27;median&#x27;))]),\n",
              "                                                                         Index([&#x27;num_cuentas_activas&#x27;, &#x27;num_cuentas_cerradas&#x27;, &#x27;max_credit&#x27;,\n",
              "       &#x27;mean_credit&#x27;, &#x27;total_credit&#x27;, &#x27;mean_balance&#x27;, &#x27;total_balance&#x27;,\n",
              "       &#x27;total_utilizacion&#x27;, &#x27;monto_en_mora...\n",
              "       &#x27;total_pagos&#x27;, &#x27;total_gastos&#x27;, &#x27;porcentaje_uso_limite_de_cuenta&#x27;,\n",
              "       &#x27;porcentaje_compras_msi&#x27;, &#x27;porcentaje_compras_mci&#x27;,\n",
              "       &#x27;porcentaje_rubros_basicos&#x27;, &#x27;year&#x27;, &#x27;month&#x27;, &#x27;day&#x27;],\n",
              "      dtype=&#x27;object&#x27;))])),\n",
              "                                       (&#x27;model&#x27;,\n",
              "                                        RandomForestClassifier(class_weight=&#x27;balanced&#x27;))]),\n",
              "             n_jobs=-1,\n",
              "             param_grid={&#x27;model__max_depth&#x27;: [None, 10, 20],\n",
              "                         &#x27;model__min_samples_split&#x27;: [2, 5, 10],\n",
              "                         &#x27;model__n_estimators&#x27;: [100, 200, 300]},\n",
              "             scoring=&#x27;f1&#x27;)</pre><b>In a Jupyter environment, please rerun this cell to show the HTML representation or trust the notebook. <br />On GitHub, the HTML representation is unable to render, please try loading this page with nbviewer.org.</b></div><div class=\"sk-container\" hidden><div class=\"sk-item sk-dashed-wrapped\"><div class=\"sk-label-container\"><div class=\"sk-label sk-toggleable\"><input class=\"sk-toggleable__control sk-hidden--visually\" id=\"sk-estimator-id-44\" type=\"checkbox\" ><label for=\"sk-estimator-id-44\" class=\"sk-toggleable__label sk-toggleable__label-arrow\">GridSearchCV</label><div class=\"sk-toggleable__content\"><pre>GridSearchCV(cv=5,\n",
              "             estimator=Pipeline(steps=[(&#x27;preprocessor&#x27;,\n",
              "                                        ColumnTransformer(remainder=&#x27;passthrough&#x27;,\n",
              "                                                          transformers=[(&#x27;pipeline&#x27;,\n",
              "                                                                         Pipeline(steps=[(&#x27;imputer&#x27;,\n",
              "                                                                                          SimpleImputer(strategy=&#x27;median&#x27;))]),\n",
              "                                                                         Index([&#x27;num_cuentas_activas&#x27;, &#x27;num_cuentas_cerradas&#x27;, &#x27;max_credit&#x27;,\n",
              "       &#x27;mean_credit&#x27;, &#x27;total_credit&#x27;, &#x27;mean_balance&#x27;, &#x27;total_balance&#x27;,\n",
              "       &#x27;total_utilizacion&#x27;, &#x27;monto_en_mora...\n",
              "       &#x27;total_pagos&#x27;, &#x27;total_gastos&#x27;, &#x27;porcentaje_uso_limite_de_cuenta&#x27;,\n",
              "       &#x27;porcentaje_compras_msi&#x27;, &#x27;porcentaje_compras_mci&#x27;,\n",
              "       &#x27;porcentaje_rubros_basicos&#x27;, &#x27;year&#x27;, &#x27;month&#x27;, &#x27;day&#x27;],\n",
              "      dtype=&#x27;object&#x27;))])),\n",
              "                                       (&#x27;model&#x27;,\n",
              "                                        RandomForestClassifier(class_weight=&#x27;balanced&#x27;))]),\n",
              "             n_jobs=-1,\n",
              "             param_grid={&#x27;model__max_depth&#x27;: [None, 10, 20],\n",
              "                         &#x27;model__min_samples_split&#x27;: [2, 5, 10],\n",
              "                         &#x27;model__n_estimators&#x27;: [100, 200, 300]},\n",
              "             scoring=&#x27;f1&#x27;)</pre></div></div></div><div class=\"sk-parallel\"><div class=\"sk-parallel-item\"><div class=\"sk-item\"><div class=\"sk-label-container\"><div class=\"sk-label sk-toggleable\"><input class=\"sk-toggleable__control sk-hidden--visually\" id=\"sk-estimator-id-45\" type=\"checkbox\" ><label for=\"sk-estimator-id-45\" class=\"sk-toggleable__label sk-toggleable__label-arrow\">estimator: Pipeline</label><div class=\"sk-toggleable__content\"><pre>Pipeline(steps=[(&#x27;preprocessor&#x27;,\n",
              "                 ColumnTransformer(remainder=&#x27;passthrough&#x27;,\n",
              "                                   transformers=[(&#x27;pipeline&#x27;,\n",
              "                                                  Pipeline(steps=[(&#x27;imputer&#x27;,\n",
              "                                                                   SimpleImputer(strategy=&#x27;median&#x27;))]),\n",
              "                                                  Index([&#x27;num_cuentas_activas&#x27;, &#x27;num_cuentas_cerradas&#x27;, &#x27;max_credit&#x27;,\n",
              "       &#x27;mean_credit&#x27;, &#x27;total_credit&#x27;, &#x27;mean_balance&#x27;, &#x27;total_balance&#x27;,\n",
              "       &#x27;total_utilizacion&#x27;, &#x27;monto_en_mora&#x27;, &#x27;pagos_vencidos&#x27;, &#x27;banco_co...\n",
              "       &#x27;facturacion_rappicard_mes_anterior&#x27;, &#x27;antiguedad_meses&#x27;,\n",
              "       &#x27;account_limit&#x27;, &#x27;pago_minimo_al_corte&#x27;, &#x27;pago_para_no_generar_interes&#x27;,\n",
              "       &#x27;total_pagos&#x27;, &#x27;total_gastos&#x27;, &#x27;porcentaje_uso_limite_de_cuenta&#x27;,\n",
              "       &#x27;porcentaje_compras_msi&#x27;, &#x27;porcentaje_compras_mci&#x27;,\n",
              "       &#x27;porcentaje_rubros_basicos&#x27;, &#x27;year&#x27;, &#x27;month&#x27;, &#x27;day&#x27;],\n",
              "      dtype=&#x27;object&#x27;))])),\n",
              "                (&#x27;model&#x27;, RandomForestClassifier(class_weight=&#x27;balanced&#x27;))])</pre></div></div></div><div class=\"sk-serial\"><div class=\"sk-item\"><div class=\"sk-serial\"><div class=\"sk-item sk-dashed-wrapped\"><div class=\"sk-label-container\"><div class=\"sk-label sk-toggleable\"><input class=\"sk-toggleable__control sk-hidden--visually\" id=\"sk-estimator-id-46\" type=\"checkbox\" ><label for=\"sk-estimator-id-46\" class=\"sk-toggleable__label sk-toggleable__label-arrow\">preprocessor: ColumnTransformer</label><div class=\"sk-toggleable__content\"><pre>ColumnTransformer(remainder=&#x27;passthrough&#x27;,\n",
              "                  transformers=[(&#x27;pipeline&#x27;,\n",
              "                                 Pipeline(steps=[(&#x27;imputer&#x27;,\n",
              "                                                  SimpleImputer(strategy=&#x27;median&#x27;))]),\n",
              "                                 Index([&#x27;num_cuentas_activas&#x27;, &#x27;num_cuentas_cerradas&#x27;, &#x27;max_credit&#x27;,\n",
              "       &#x27;mean_credit&#x27;, &#x27;total_credit&#x27;, &#x27;mean_balance&#x27;, &#x27;total_balance&#x27;,\n",
              "       &#x27;total_utilizacion&#x27;, &#x27;monto_en_mora&#x27;, &#x27;pagos_vencidos&#x27;, &#x27;banco_count&#x27;,\n",
              "       &#x27;banco_limite&#x27;, &#x27;banco_utili...\n",
              "       &#x27;times_increased&#x27;, &#x27;max_increase&#x27;, &#x27;min_increase&#x27;, &#x27;dias_de_impagador&#x27;,\n",
              "       &#x27;facturacion_rappicard_mes_anterior&#x27;, &#x27;antiguedad_meses&#x27;,\n",
              "       &#x27;account_limit&#x27;, &#x27;pago_minimo_al_corte&#x27;, &#x27;pago_para_no_generar_interes&#x27;,\n",
              "       &#x27;total_pagos&#x27;, &#x27;total_gastos&#x27;, &#x27;porcentaje_uso_limite_de_cuenta&#x27;,\n",
              "       &#x27;porcentaje_compras_msi&#x27;, &#x27;porcentaje_compras_mci&#x27;,\n",
              "       &#x27;porcentaje_rubros_basicos&#x27;, &#x27;year&#x27;, &#x27;month&#x27;, &#x27;day&#x27;],\n",
              "      dtype=&#x27;object&#x27;))])</pre></div></div></div><div class=\"sk-parallel\"><div class=\"sk-parallel-item\"><div class=\"sk-item\"><div class=\"sk-label-container\"><div class=\"sk-label sk-toggleable\"><input class=\"sk-toggleable__control sk-hidden--visually\" id=\"sk-estimator-id-47\" type=\"checkbox\" ><label for=\"sk-estimator-id-47\" class=\"sk-toggleable__label sk-toggleable__label-arrow\">pipeline</label><div class=\"sk-toggleable__content\"><pre>Index([&#x27;num_cuentas_activas&#x27;, &#x27;num_cuentas_cerradas&#x27;, &#x27;max_credit&#x27;,\n",
              "       &#x27;mean_credit&#x27;, &#x27;total_credit&#x27;, &#x27;mean_balance&#x27;, &#x27;total_balance&#x27;,\n",
              "       &#x27;total_utilizacion&#x27;, &#x27;monto_en_mora&#x27;, &#x27;pagos_vencidos&#x27;, &#x27;banco_count&#x27;,\n",
              "       &#x27;banco_limite&#x27;, &#x27;banco_utilizacion&#x27;, &#x27;first_amount&#x27;, &#x27;last_amount&#x27;,\n",
              "       &#x27;times_increased&#x27;, &#x27;max_increase&#x27;, &#x27;min_increase&#x27;, &#x27;dias_de_impagador&#x27;,\n",
              "       &#x27;facturacion_rappicard_mes_anterior&#x27;, &#x27;antiguedad_meses&#x27;,\n",
              "       &#x27;account_limit&#x27;, &#x27;pago_minimo_al_corte&#x27;, &#x27;pago_para_no_generar_interes&#x27;,\n",
              "       &#x27;total_pagos&#x27;, &#x27;total_gastos&#x27;, &#x27;porcentaje_uso_limite_de_cuenta&#x27;,\n",
              "       &#x27;porcentaje_compras_msi&#x27;, &#x27;porcentaje_compras_mci&#x27;,\n",
              "       &#x27;porcentaje_rubros_basicos&#x27;, &#x27;year&#x27;, &#x27;month&#x27;, &#x27;day&#x27;],\n",
              "      dtype=&#x27;object&#x27;)</pre></div></div></div><div class=\"sk-serial\"><div class=\"sk-item\"><div class=\"sk-serial\"><div class=\"sk-item\"><div class=\"sk-estimator sk-toggleable\"><input class=\"sk-toggleable__control sk-hidden--visually\" id=\"sk-estimator-id-48\" type=\"checkbox\" ><label for=\"sk-estimator-id-48\" class=\"sk-toggleable__label sk-toggleable__label-arrow\">SimpleImputer</label><div class=\"sk-toggleable__content\"><pre>SimpleImputer(strategy=&#x27;median&#x27;)</pre></div></div></div></div></div></div></div></div><div class=\"sk-parallel-item\"><div class=\"sk-item\"><div class=\"sk-label-container\"><div class=\"sk-label sk-toggleable\"><input class=\"sk-toggleable__control sk-hidden--visually\" id=\"sk-estimator-id-49\" type=\"checkbox\" ><label for=\"sk-estimator-id-49\" class=\"sk-toggleable__label sk-toggleable__label-arrow\">remainder</label><div class=\"sk-toggleable__content\"><pre></pre></div></div></div><div class=\"sk-serial\"><div class=\"sk-item\"><div class=\"sk-estimator sk-toggleable\"><input class=\"sk-toggleable__control sk-hidden--visually\" id=\"sk-estimator-id-50\" type=\"checkbox\" ><label for=\"sk-estimator-id-50\" class=\"sk-toggleable__label sk-toggleable__label-arrow\">passthrough</label><div class=\"sk-toggleable__content\"><pre>passthrough</pre></div></div></div></div></div></div></div></div><div class=\"sk-item\"><div class=\"sk-estimator sk-toggleable\"><input class=\"sk-toggleable__control sk-hidden--visually\" id=\"sk-estimator-id-51\" type=\"checkbox\" ><label for=\"sk-estimator-id-51\" class=\"sk-toggleable__label sk-toggleable__label-arrow\">RandomForestClassifier</label><div class=\"sk-toggleable__content\"><pre>RandomForestClassifier(class_weight=&#x27;balanced&#x27;)</pre></div></div></div></div></div></div></div></div></div></div></div></div>"
            ]
          },
          "metadata": {},
          "execution_count": 77
        }
      ]
    },
    {
      "cell_type": "code",
      "source": [
        "best = gs.best_estimator_\n",
        "y_pred=best.predict(X_test)\n",
        "print(accuracy_score(y_pred, y_test))\n",
        "print(confusion_matrix(y_pred, y_test)/40000)\n"
      ],
      "metadata": {
        "colab": {
          "base_uri": "https://localhost:8080/"
        },
        "id": "zdNpSrxNXunE",
        "outputId": "10be4347-d9f6-4ea0-a2d7-880c04038560"
      },
      "execution_count": 79,
      "outputs": [
        {
          "output_type": "stream",
          "name": "stdout",
          "text": [
            "0.921975\n",
            "[[0.737425 0.05805 ]\n",
            " [0.019975 0.18455 ]]\n"
          ]
        }
      ]
    },
    {
      "cell_type": "code",
      "source": [
        "#revisar la accuracy del modelo\n",
        "#y_pred = pipe.predict(X_test)\n",
        "#accuracy_score(y_pred, y_test)"
      ],
      "metadata": {
        "id": "zDU32PfVAFbY"
      },
      "execution_count": null,
      "outputs": []
    },
    {
      "cell_type": "code",
      "source": [
        "confusion_matrix(y_pred, y_test)/40000"
      ],
      "metadata": {
        "colab": {
          "base_uri": "https://localhost:8080/"
        },
        "id": "qymrDydeQhs2",
        "outputId": "0ddaf534-2049-490e-fedc-9b40ac5ff702"
      },
      "execution_count": 80,
      "outputs": [
        {
          "output_type": "execute_result",
          "data": {
            "text/plain": [
              "array([[0.737425, 0.05805 ],\n",
              "       [0.019975, 0.18455 ]])"
            ]
          },
          "metadata": {},
          "execution_count": 80
        }
      ]
    },
    {
      "cell_type": "code",
      "source": [
        "rf_model = best.named_steps['model']\n",
        "importances = rf_model.feature_importances_\n",
        "feature_names = X.columns\n",
        "#indices = np.argsort(importances)[::-1]"
      ],
      "metadata": {
        "id": "B3r6UKNO8Kxh"
      },
      "execution_count": 82,
      "outputs": []
    },
    {
      "cell_type": "code",
      "source": [
        "import matplotlib.pyplot as plt\n",
        "forest_importances = pd.Series(importances, index=feature_names)\n",
        "\n",
        "fig, ax = plt.subplots()\n",
        "forest_importances.plot.bar(ax=ax)\n",
        "ax.set_title(\"Feature importances\")\n",
        "ax.set_ylabel(\"Mean decrease in impurity\")\n",
        "fig.tight_layout()"
      ],
      "metadata": {
        "colab": {
          "base_uri": "https://localhost:8080/",
          "height": 487
        },
        "id": "8PmfcLaH8r7E",
        "outputId": "7905fb67-fb9a-492c-9917-0c94af4e1927"
      },
      "execution_count": 83,
      "outputs": [
        {
          "output_type": "display_data",
          "data": {
            "text/plain": [
              "<Figure size 640x480 with 1 Axes>"
            ],
            "image/png": "[encoded data removed]"
          },
          "metadata": {}
        }
      ]
    },
    {
      "cell_type": "markdown",
      "source": [
        "Las tres variables con mayor importancia en la probabilidad de default son Monto en mora, días de impagador y pagos vencidos. Las tres están muy relacionadas pero cada una en distintas dimensiones.\n",
        "\n",
        "\n",
        "*   Monto en mora se refiere al monto total que el cliente debe en sus cuentas de acuerdo al Buró de Crédito, por lo que a mayor dinero que un cliente deba a bancos, mayor debe ser su probabilidad de no poder pagarlo.\n",
        "*   Días de impagador está altamente relacionado a la probabilidad de default dado que independientemente del valor de impago, más tiempo sin pagar se traduce después de determinado tiempo en un default.\n",
        "*   El número de pagos vencidos se relaciona con la probabilidad de default al tener el cliente un historial previo de impago existe mayor posibilidad de que esto vuelva a ocurrir.\n",
        "\n",
        "\n",
        "\n"
      ],
      "metadata": {
        "id": "elxn0TxrFG-e"
      }
    },
    {
      "cell_type": "markdown",
      "source": [
        "## 3"
      ],
      "metadata": {
        "id": "J28khOwpImW4"
      }
    },
    {
      "cell_type": "markdown",
      "source": [
        "Al obtener y verificar el accuracy del modelo, se puede revisar que este este bien calibrado de acuerdo a lo observado. Para esto se generó un set de validacion aislado de los efectos de entrenamiento y también del testing. Este set de validación contiene 20% de las observaciones (40,000 cuentas), por lo  que se puede dividir en cinco bins de 8,000 cuentas en las que se puede comparar la probabilidad observada en cada una contra la predicha por el modelo."
      ],
      "metadata": {
        "id": "_GaNhg-LWB6U"
      }
    },
    {
      "cell_type": "code",
      "source": [
        "#Se empieza por aleatorizar el set de validacion (uniendo X, y para hacerlo en menos pasos)\n",
        "\n",
        "X_val['impago'] = y_val\n",
        "\n",
        "X_val.sample(frac = 1).reset_index(drop=True)\n",
        "\n",
        "bins = np.array_split(X_val, 5)"
      ],
      "metadata": {
        "id": "w9Tng2TX8slL"
      },
      "execution_count": 84,
      "outputs": []
    },
    {
      "cell_type": "code",
      "source": [
        "#Iterar sobre los bins\n",
        "\n",
        "proba_obs =[]\n",
        "proba_pred = []\n",
        "acc = []\n",
        "f1 = []\n",
        "recall = []\n",
        "prec = []\n",
        "\n",
        "for bin in bins:\n",
        "\n",
        "  y_bin = bin.impago\n",
        "  X_bin = bin.drop('impago', axis = 1)\n",
        "\n",
        "  obs = y_bin.sum()/8000\n",
        "\n",
        "  proba_obs.append(obs)\n",
        "\n",
        "  y_pred = best.predict(X_bin)\n",
        "  pred = y_pred.sum()/8000\n",
        "\n",
        "  proba_pred.append(pred)\n",
        "\n",
        "  acc.append(accuracy_score(y_bin, y_pred))\n",
        "  f1.append(f1_score(y_bin, y_pred))\n",
        "  recall.append(recall_score(y_bin, y_pred))\n",
        "  prec.append(precision_score(y_bin, y_pred))\n",
        "\n",
        "print(proba_pred)\n",
        "print(proba_obs)\n",
        "print(acc)\n",
        "print(f1)\n",
        "print(recall)\n",
        "print(prec)\n"
      ],
      "metadata": {
        "colab": {
          "base_uri": "https://localhost:8080/"
        },
        "id": "xC2ICPXeEosR",
        "outputId": "bfb70bcb-63e8-4f08-ecbf-dba59cd11265"
      },
      "execution_count": 90,
      "outputs": [
        {
          "output_type": "stream",
          "name": "stdout",
          "text": [
            "[0.203875, 0.207375, 0.208375, 0.21225, 0.206375]\n",
            "[0.24375, 0.244375, 0.2435, 0.2525, 0.240125]\n",
            "[0.921625, 0.9225, 0.924375, 0.92025, 0.92475]\n",
            "[0.8249092432281485, 0.8284449363586054, 0.8326417704011064, 0.8284023668639053, 0.8314669652855542]\n",
            "[0.7574358974358975, 0.7657289002557545, 0.7725872689938398, 0.7623762376237624, 0.7730348776678813]\n",
            "[0.9055793991416309, 0.9023508137432188, 0.9028194361127775, 0.9069493521790342, 0.8994548758328286]\n"
          ]
        }
      ]
    },
    {
      "cell_type": "markdown",
      "source": [
        "## 4"
      ],
      "metadata": {
        "id": "W6S94hkZ18n6"
      }
    },
    {
      "cell_type": "code",
      "source": [
        "from sklearn.linear_model import LogisticRegression\n",
        "from sklearn.model_selection import train_test_split, GridSearchCV\n",
        "from sklearn.metrics import accuracy_score"
      ],
      "metadata": {
        "id": "7Qlvpnzt1-1C"
      },
      "execution_count": 92,
      "outputs": []
    },
    {
      "cell_type": "code",
      "source": [
        "X_train, X_test, y_train, y_test = train_test_split(X, y, test_size = 0.3, random_state = 16)\n",
        "\n",
        "mod = LogisticRegression()\n",
        "\n",
        "#Genera pipeline para las variables numericas que son todas\n",
        "#num_transformer = Pipeline([('imputer', SimpleImputer(strategy='mean')),\n",
        "#                            ('scaler', StandardScaler())])\n",
        "#num_cols = X.select_dtypes(include=['int64', 'float64']).columns\n",
        "\n",
        "#prep = make_column_transformer((num_transformer, num_cols),\n",
        "#                               remainder= 'passthrough')\n",
        "\n",
        "pipe = Pipeline([('imputer', SimpleImputer(strategy='mean')),\n",
        "                 ('scaler', StandardScaler()),\n",
        "                 ('model', mod)])\n",
        "\n",
        "params = {'model__C': [0.1, 1, 10, 100], 'model__solver': ['liblinear']}\n",
        "\n",
        "gs = GridSearchCV(pipe, param_grid = params, cv = 5, scoring='accuracy')\n",
        "gs.fit(X_train, y_train)"
      ],
      "metadata": {
        "colab": {
          "base_uri": "https://localhost:8080/",
          "height": 184
        },
        "id": "_J5DoAwd2mEY",
        "outputId": "402b69ee-f932-46cd-8cb2-5bf28321d741"
      },
      "execution_count": 93,
      "outputs": [
        {
          "output_type": "execute_result",
          "data": {
            "text/plain": [
              "GridSearchCV(cv=5,\n",
              "             estimator=Pipeline(steps=[('imputer', SimpleImputer()),\n",
              "                                       ('scaler', StandardScaler()),\n",
              "                                       ('model', LogisticRegression())]),\n",
              "             param_grid={'model__C': [0.1, 1, 10, 100],\n",
              "                         'model__solver': ['liblinear']},\n",
              "             scoring='accuracy')"
            ],
            "text/html": [
              "<style>#sk-container-id-8 {color: black;background-color: white;}#sk-container-id-8 pre{padding: 0;}#sk-container-id-8 div.sk-toggleable {background-color: white;}#sk-container-id-8 label.sk-toggleable__label {cursor: pointer;display: block;width: 100%;margin-bottom: 0;padding: 0.3em;box-sizing: border-box;text-align: center;}#sk-container-id-8 label.sk-toggleable__label-arrow:before {content: \"▸\";float: left;margin-right: 0.25em;color: #696969;}#sk-container-id-8 label.sk-toggleable__label-arrow:hover:before {color: black;}#sk-container-id-8 div.sk-estimator:hover label.sk-toggleable__label-arrow:before {color: black;}#sk-container-id-8 div.sk-toggleable__content {max-height: 0;max-width: 0;overflow: hidden;text-align: left;background-color: #f0f8ff;}#sk-container-id-8 div.sk-toggleable__content pre {margin: 0.2em;color: black;border-radius: 0.25em;background-color: #f0f8ff;}#sk-container-id-8 input.sk-toggleable__control:checked~div.sk-toggleable__content {max-height: 200px;max-width: 100%;overflow: auto;}#sk-container-id-8 input.sk-toggleable__control:checked~label.sk-toggleable__label-arrow:before {content: \"▾\";}#sk-container-id-8 div.sk-estimator input.sk-toggleable__control:checked~label.sk-toggleable__label {background-color: #d4ebff;}#sk-container-id-8 div.sk-label input.sk-toggleable__control:checked~label.sk-toggleable__label {background-color: #d4ebff;}#sk-container-id-8 input.sk-hidden--visually {border: 0;clip: rect(1px 1px 1px 1px);clip: rect(1px, 1px, 1px, 1px);height: 1px;margin: -1px;overflow: hidden;padding: 0;position: absolute;width: 1px;}#sk-container-id-8 div.sk-estimator {font-family: monospace;background-color: #f0f8ff;border: 1px dotted black;border-radius: 0.25em;box-sizing: border-box;margin-bottom: 0.5em;}#sk-container-id-8 div.sk-estimator:hover {background-color: #d4ebff;}#sk-container-id-8 div.sk-parallel-item::after {content: \"\";width: 100%;border-bottom: 1px solid gray;flex-grow: 1;}#sk-container-id-8 div.sk-label:hover label.sk-toggleable__label {background-color: #d4ebff;}#sk-container-id-8 div.sk-serial::before {content: \"\";position: absolute;border-left: 1px solid gray;box-sizing: border-box;top: 0;bottom: 0;left: 50%;z-index: 0;}#sk-container-id-8 div.sk-serial {display: flex;flex-direction: column;align-items: center;background-color: white;padding-right: 0.2em;padding-left: 0.2em;position: relative;}#sk-container-id-8 div.sk-item {position: relative;z-index: 1;}#sk-container-id-8 div.sk-parallel {display: flex;align-items: stretch;justify-content: center;background-color: white;position: relative;}#sk-container-id-8 div.sk-item::before, #sk-container-id-8 div.sk-parallel-item::before {content: \"\";position: absolute;border-left: 1px solid gray;box-sizing: border-box;top: 0;bottom: 0;left: 50%;z-index: -1;}#sk-container-id-8 div.sk-parallel-item {display: flex;flex-direction: column;z-index: 1;position: relative;background-color: white;}#sk-container-id-8 div.sk-parallel-item:first-child::after {align-self: flex-end;width: 50%;}#sk-container-id-8 div.sk-parallel-item:last-child::after {align-self: flex-start;width: 50%;}#sk-container-id-8 div.sk-parallel-item:only-child::after {width: 0;}#sk-container-id-8 div.sk-dashed-wrapped {border: 1px dashed gray;margin: 0 0.4em 0.5em 0.4em;box-sizing: border-box;padding-bottom: 0.4em;background-color: white;}#sk-container-id-8 div.sk-label label {font-family: monospace;font-weight: bold;display: inline-block;line-height: 1.2em;}#sk-container-id-8 div.sk-label-container {text-align: center;}#sk-container-id-8 div.sk-container {/* jupyter's `normalize.less` sets `[hidden] { display: none; }` but bootstrap.min.css set `[hidden] { display: none !important; }` so we also need the `!important` here to be able to override the default hidden behavior on the sphinx rendered scikit-learn.org. See: https://github.com/scikit-learn/scikit-learn/issues/21755 */display: inline-block !important;position: relative;}#sk-container-id-8 div.sk-text-repr-fallback {display: none;}</style><div id=\"sk-container-id-8\" class=\"sk-top-container\"><div class=\"sk-text-repr-fallback\"><pre>GridSearchCV(cv=5,\n",
              "             estimator=Pipeline(steps=[(&#x27;imputer&#x27;, SimpleImputer()),\n",
              "                                       (&#x27;scaler&#x27;, StandardScaler()),\n",
              "                                       (&#x27;model&#x27;, LogisticRegression())]),\n",
              "             param_grid={&#x27;model__C&#x27;: [0.1, 1, 10, 100],\n",
              "                         &#x27;model__solver&#x27;: [&#x27;liblinear&#x27;]},\n",
              "             scoring=&#x27;accuracy&#x27;)</pre><b>In a Jupyter environment, please rerun this cell to show the HTML representation or trust the notebook. <br />On GitHub, the HTML representation is unable to render, please try loading this page with nbviewer.org.</b></div><div class=\"sk-container\" hidden><div class=\"sk-item sk-dashed-wrapped\"><div class=\"sk-label-container\"><div class=\"sk-label sk-toggleable\"><input class=\"sk-toggleable__control sk-hidden--visually\" id=\"sk-estimator-id-52\" type=\"checkbox\" ><label for=\"sk-estimator-id-52\" class=\"sk-toggleable__label sk-toggleable__label-arrow\">GridSearchCV</label><div class=\"sk-toggleable__content\"><pre>GridSearchCV(cv=5,\n",
              "             estimator=Pipeline(steps=[(&#x27;imputer&#x27;, SimpleImputer()),\n",
              "                                       (&#x27;scaler&#x27;, StandardScaler()),\n",
              "                                       (&#x27;model&#x27;, LogisticRegression())]),\n",
              "             param_grid={&#x27;model__C&#x27;: [0.1, 1, 10, 100],\n",
              "                         &#x27;model__solver&#x27;: [&#x27;liblinear&#x27;]},\n",
              "             scoring=&#x27;accuracy&#x27;)</pre></div></div></div><div class=\"sk-parallel\"><div class=\"sk-parallel-item\"><div class=\"sk-item\"><div class=\"sk-label-container\"><div class=\"sk-label sk-toggleable\"><input class=\"sk-toggleable__control sk-hidden--visually\" id=\"sk-estimator-id-53\" type=\"checkbox\" ><label for=\"sk-estimator-id-53\" class=\"sk-toggleable__label sk-toggleable__label-arrow\">estimator: Pipeline</label><div class=\"sk-toggleable__content\"><pre>Pipeline(steps=[(&#x27;imputer&#x27;, SimpleImputer()), (&#x27;scaler&#x27;, StandardScaler()),\n",
              "                (&#x27;model&#x27;, LogisticRegression())])</pre></div></div></div><div class=\"sk-serial\"><div class=\"sk-item\"><div class=\"sk-serial\"><div class=\"sk-item\"><div class=\"sk-estimator sk-toggleable\"><input class=\"sk-toggleable__control sk-hidden--visually\" id=\"sk-estimator-id-54\" type=\"checkbox\" ><label for=\"sk-estimator-id-54\" class=\"sk-toggleable__label sk-toggleable__label-arrow\">SimpleImputer</label><div class=\"sk-toggleable__content\"><pre>SimpleImputer()</pre></div></div></div><div class=\"sk-item\"><div class=\"sk-estimator sk-toggleable\"><input class=\"sk-toggleable__control sk-hidden--visually\" id=\"sk-estimator-id-55\" type=\"checkbox\" ><label for=\"sk-estimator-id-55\" class=\"sk-toggleable__label sk-toggleable__label-arrow\">StandardScaler</label><div class=\"sk-toggleable__content\"><pre>StandardScaler()</pre></div></div></div><div class=\"sk-item\"><div class=\"sk-estimator sk-toggleable\"><input class=\"sk-toggleable__control sk-hidden--visually\" id=\"sk-estimator-id-56\" type=\"checkbox\" ><label for=\"sk-estimator-id-56\" class=\"sk-toggleable__label sk-toggleable__label-arrow\">LogisticRegression</label><div class=\"sk-toggleable__content\"><pre>LogisticRegression()</pre></div></div></div></div></div></div></div></div></div></div></div></div>"
            ]
          },
          "metadata": {},
          "execution_count": 93
        }
      ]
    },
    {
      "cell_type": "code",
      "source": [
        "y_pred = gs.predict(X_test)\n",
        "accuracy_score(y_pred, y_test)"
      ],
      "metadata": {
        "colab": {
          "base_uri": "https://localhost:8080/"
        },
        "id": "WC8PjZr-7fZh",
        "outputId": "4de8225a-8fdb-438c-e956-8a12bd34df1f"
      },
      "execution_count": 94,
      "outputs": [
        {
          "output_type": "execute_result",
          "data": {
            "text/plain": [
              "0.9118833333333334"
            ]
          },
          "metadata": {},
          "execution_count": 94
        }
      ]
    },
    {
      "cell_type": "code",
      "source": [
        "best_mod = gs.best_estimator_\n",
        "best_mod.fit(X_train, y_train)"
      ],
      "metadata": {
        "colab": {
          "base_uri": "https://localhost:8080/",
          "height": 159
        },
        "id": "AtmW2DYYAACB",
        "outputId": "ea8f51cf-154b-4f6f-8a70-bb2d123d7378"
      },
      "execution_count": 95,
      "outputs": [
        {
          "output_type": "execute_result",
          "data": {
            "text/plain": [
              "Pipeline(steps=[('imputer', SimpleImputer()), ('scaler', StandardScaler()),\n",
              "                ('model', LogisticRegression(C=10, solver='liblinear'))])"
            ],
            "text/html": [
              "<style>#sk-container-id-9 {color: black;background-color: white;}#sk-container-id-9 pre{padding: 0;}#sk-container-id-9 div.sk-toggleable {background-color: white;}#sk-container-id-9 label.sk-toggleable__label {cursor: pointer;display: block;width: 100%;margin-bottom: 0;padding: 0.3em;box-sizing: border-box;text-align: center;}#sk-container-id-9 label.sk-toggleable__label-arrow:before {content: \"▸\";float: left;margin-right: 0.25em;color: #696969;}#sk-container-id-9 label.sk-toggleable__label-arrow:hover:before {color: black;}#sk-container-id-9 div.sk-estimator:hover label.sk-toggleable__label-arrow:before {color: black;}#sk-container-id-9 div.sk-toggleable__content {max-height: 0;max-width: 0;overflow: hidden;text-align: left;background-color: #f0f8ff;}#sk-container-id-9 div.sk-toggleable__content pre {margin: 0.2em;color: black;border-radius: 0.25em;background-color: #f0f8ff;}#sk-container-id-9 input.sk-toggleable__control:checked~div.sk-toggleable__content {max-height: 200px;max-width: 100%;overflow: auto;}#sk-container-id-9 input.sk-toggleable__control:checked~label.sk-toggleable__label-arrow:before {content: \"▾\";}#sk-container-id-9 div.sk-estimator input.sk-toggleable__control:checked~label.sk-toggleable__label {background-color: #d4ebff;}#sk-container-id-9 div.sk-label input.sk-toggleable__control:checked~label.sk-toggleable__label {background-color: #d4ebff;}#sk-container-id-9 input.sk-hidden--visually {border: 0;clip: rect(1px 1px 1px 1px);clip: rect(1px, 1px, 1px, 1px);height: 1px;margin: -1px;overflow: hidden;padding: 0;position: absolute;width: 1px;}#sk-container-id-9 div.sk-estimator {font-family: monospace;background-color: #f0f8ff;border: 1px dotted black;border-radius: 0.25em;box-sizing: border-box;margin-bottom: 0.5em;}#sk-container-id-9 div.sk-estimator:hover {background-color: #d4ebff;}#sk-container-id-9 div.sk-parallel-item::after {content: \"\";width: 100%;border-bottom: 1px solid gray;flex-grow: 1;}#sk-container-id-9 div.sk-label:hover label.sk-toggleable__label {background-color: #d4ebff;}#sk-container-id-9 div.sk-serial::before {content: \"\";position: absolute;border-left: 1px solid gray;box-sizing: border-box;top: 0;bottom: 0;left: 50%;z-index: 0;}#sk-container-id-9 div.sk-serial {display: flex;flex-direction: column;align-items: center;background-color: white;padding-right: 0.2em;padding-left: 0.2em;position: relative;}#sk-container-id-9 div.sk-item {position: relative;z-index: 1;}#sk-container-id-9 div.sk-parallel {display: flex;align-items: stretch;justify-content: center;background-color: white;position: relative;}#sk-container-id-9 div.sk-item::before, #sk-container-id-9 div.sk-parallel-item::before {content: \"\";position: absolute;border-left: 1px solid gray;box-sizing: border-box;top: 0;bottom: 0;left: 50%;z-index: -1;}#sk-container-id-9 div.sk-parallel-item {display: flex;flex-direction: column;z-index: 1;position: relative;background-color: white;}#sk-container-id-9 div.sk-parallel-item:first-child::after {align-self: flex-end;width: 50%;}#sk-container-id-9 div.sk-parallel-item:last-child::after {align-self: flex-start;width: 50%;}#sk-container-id-9 div.sk-parallel-item:only-child::after {width: 0;}#sk-container-id-9 div.sk-dashed-wrapped {border: 1px dashed gray;margin: 0 0.4em 0.5em 0.4em;box-sizing: border-box;padding-bottom: 0.4em;background-color: white;}#sk-container-id-9 div.sk-label label {font-family: monospace;font-weight: bold;display: inline-block;line-height: 1.2em;}#sk-container-id-9 div.sk-label-container {text-align: center;}#sk-container-id-9 div.sk-container {/* jupyter's `normalize.less` sets `[hidden] { display: none; }` but bootstrap.min.css set `[hidden] { display: none !important; }` so we also need the `!important` here to be able to override the default hidden behavior on the sphinx rendered scikit-learn.org. See: https://github.com/scikit-learn/scikit-learn/issues/21755 */display: inline-block !important;position: relative;}#sk-container-id-9 div.sk-text-repr-fallback {display: none;}</style><div id=\"sk-container-id-9\" class=\"sk-top-container\"><div class=\"sk-text-repr-fallback\"><pre>Pipeline(steps=[(&#x27;imputer&#x27;, SimpleImputer()), (&#x27;scaler&#x27;, StandardScaler()),\n",
              "                (&#x27;model&#x27;, LogisticRegression(C=10, solver=&#x27;liblinear&#x27;))])</pre><b>In a Jupyter environment, please rerun this cell to show the HTML representation or trust the notebook. <br />On GitHub, the HTML representation is unable to render, please try loading this page with nbviewer.org.</b></div><div class=\"sk-container\" hidden><div class=\"sk-item sk-dashed-wrapped\"><div class=\"sk-label-container\"><div class=\"sk-label sk-toggleable\"><input class=\"sk-toggleable__control sk-hidden--visually\" id=\"sk-estimator-id-57\" type=\"checkbox\" ><label for=\"sk-estimator-id-57\" class=\"sk-toggleable__label sk-toggleable__label-arrow\">Pipeline</label><div class=\"sk-toggleable__content\"><pre>Pipeline(steps=[(&#x27;imputer&#x27;, SimpleImputer()), (&#x27;scaler&#x27;, StandardScaler()),\n",
              "                (&#x27;model&#x27;, LogisticRegression(C=10, solver=&#x27;liblinear&#x27;))])</pre></div></div></div><div class=\"sk-serial\"><div class=\"sk-item\"><div class=\"sk-estimator sk-toggleable\"><input class=\"sk-toggleable__control sk-hidden--visually\" id=\"sk-estimator-id-58\" type=\"checkbox\" ><label for=\"sk-estimator-id-58\" class=\"sk-toggleable__label sk-toggleable__label-arrow\">SimpleImputer</label><div class=\"sk-toggleable__content\"><pre>SimpleImputer()</pre></div></div></div><div class=\"sk-item\"><div class=\"sk-estimator sk-toggleable\"><input class=\"sk-toggleable__control sk-hidden--visually\" id=\"sk-estimator-id-59\" type=\"checkbox\" ><label for=\"sk-estimator-id-59\" class=\"sk-toggleable__label sk-toggleable__label-arrow\">StandardScaler</label><div class=\"sk-toggleable__content\"><pre>StandardScaler()</pre></div></div></div><div class=\"sk-item\"><div class=\"sk-estimator sk-toggleable\"><input class=\"sk-toggleable__control sk-hidden--visually\" id=\"sk-estimator-id-60\" type=\"checkbox\" ><label for=\"sk-estimator-id-60\" class=\"sk-toggleable__label sk-toggleable__label-arrow\">LogisticRegression</label><div class=\"sk-toggleable__content\"><pre>LogisticRegression(C=10, solver=&#x27;liblinear&#x27;)</pre></div></div></div></div></div></div></div>"
            ]
          },
          "metadata": {},
          "execution_count": 95
        }
      ]
    },
    {
      "cell_type": "code",
      "source": [
        "log_reg_model = best_mod.named_steps['model']\n",
        "coefficients = log_reg_model.coef_\n",
        "coefficients"
      ],
      "metadata": {
        "colab": {
          "base_uri": "https://localhost:8080/"
        },
        "id": "uReBSc8d86tb",
        "outputId": "bce7c45d-c176-4c95-9db3-df1193681678"
      },
      "execution_count": 96,
      "outputs": [
        {
          "output_type": "execute_result",
          "data": {
            "text/plain": [
              "array([[ 3.71275616e-01,  1.23371744e-02,  1.57405930e+00,\n",
              "        -2.03290601e-01, -1.94305343e+00,  3.45058783e-02,\n",
              "        -3.83368977e-02, -1.76840801e-01,  6.77446851e-02,\n",
              "         5.96015424e-02, -2.89832955e-01,  2.44427452e-01,\n",
              "        -4.68660364e-02, -4.54695068e-01, -4.33706105e-01,\n",
              "        -2.22984366e-01,  3.39548036e-02,  3.41389984e-02,\n",
              "         3.23552414e+00,  1.79403667e-01, -1.34563165e-01,\n",
              "        -4.58022707e-01,  2.19587604e+00,  3.07292043e-01,\n",
              "         6.53816363e-01,  1.76665297e-01, -3.28148764e-01,\n",
              "         2.89955083e-03, -6.03427609e-03,  2.44110083e-02,\n",
              "        -2.22793008e-01,  1.20244988e-01,  2.05106258e-02]])"
            ]
          },
          "metadata": {},
          "execution_count": 96
        }
      ]
    },
    {
      "cell_type": "code",
      "source": [
        "coefficients_with_names = list(zip(X.columns, coefficients[0]))"
      ],
      "metadata": {
        "id": "iM51AJTm_bYl"
      },
      "execution_count": 97,
      "outputs": []
    },
    {
      "cell_type": "code",
      "source": [
        "coefs= pd.DataFrame(coefficients_with_names, columns = ['feature', 'coefficient'])\n",
        "coefs.sort_values(by ='coefficient')"
      ],
      "metadata": {
        "colab": {
          "base_uri": "https://localhost:8080/",
          "height": 1000
        },
        "id": "Q1SAfz8HAUYG",
        "outputId": "ae9c6b0e-346b-4ab5-b8e7-80042a3ba578"
      },
      "execution_count": 109,
      "outputs": [
        {
          "output_type": "execute_result",
          "data": {
            "text/plain": [
              "                               feature  coefficient\n",
              "4                         total_credit    -1.943053\n",
              "21                       account_limit    -0.458023\n",
              "13                        first_amount    -0.454695\n",
              "14                         last_amount    -0.433706\n",
              "26     porcentaje_uso_limite_de_cuenta    -0.328149\n",
              "10                         banco_count    -0.289833\n",
              "15                     times_increased    -0.222984\n",
              "30                                year    -0.222793\n",
              "3                          mean_credit    -0.203291\n",
              "7                    total_utilizacion    -0.176841\n",
              "20                    antiguedad_meses    -0.134563\n",
              "12                   banco_utilizacion    -0.046866\n",
              "6                        total_balance    -0.038337\n",
              "28              porcentaje_compras_mci    -0.006034\n",
              "27              porcentaje_compras_msi     0.002900\n",
              "1                 num_cuentas_cerradas     0.012337\n",
              "32                                 day     0.020511\n",
              "29           porcentaje_rubros_basicos     0.024411\n",
              "16                        max_increase     0.033955\n",
              "17                        min_increase     0.034139\n",
              "5                         mean_balance     0.034506\n",
              "9                       pagos_vencidos     0.059602\n",
              "8                        monto_en_mora     0.067745\n",
              "31                               month     0.120245\n",
              "25                        total_gastos     0.176665\n",
              "19  facturacion_rappicard_mes_anterior     0.179404\n",
              "11                        banco_limite     0.244427\n",
              "23        pago_para_no_generar_interes     0.307292\n",
              "0                  num_cuentas_activas     0.371276\n",
              "24                         total_pagos     0.653816\n",
              "2                           max_credit     1.574059\n",
              "22                pago_minimo_al_corte     2.195876\n",
              "18                   dias_de_impagador     3.235524"
            ],
            "text/html": [
              "\n",
              "  <div id=\"df-9e91f1c5-cd85-4e1c-9534-a9ac95b0f194\" class=\"colab-df-container\">\n",
              "    <div>\n",
              "<style scoped>\n",
              "    .dataframe tbody tr th:only-of-type {\n",
              "        vertical-align: middle;\n",
              "    }\n",
              "\n",
              "    .dataframe tbody tr th {\n",
              "        vertical-align: top;\n",
              "    }\n",
              "\n",
              "    .dataframe thead th {\n",
              "        text-align: right;\n",
              "    }\n",
              "</style>\n",
              "<table border=\"1\" class=\"dataframe\">\n",
              "  <thead>\n",
              "    <tr style=\"text-align: right;\">\n",
              "      <th></th>\n",
              "      <th>feature</th>\n",
              "      <th>coefficient</th>\n",
              "    </tr>\n",
              "  </thead>\n",
              "  <tbody>\n",
              "    <tr>\n",
              "      <th>4</th>\n",
              "      <td>total_credit</td>\n",
              "      <td>-1.943053</td>\n",
              "    </tr>\n",
              "    <tr>\n",
              "      <th>21</th>\n",
              "      <td>account_limit</td>\n",
              "      <td>-0.458023</td>\n",
              "    </tr>\n",
              "    <tr>\n",
              "      <th>13</th>\n",
              "      <td>first_amount</td>\n",
              "      <td>-0.454695</td>\n",
              "    </tr>\n",
              "    <tr>\n",
              "      <th>14</th>\n",
              "      <td>last_amount</td>\n",
              "      <td>-0.433706</td>\n",
              "    </tr>\n",
              "    <tr>\n",
              "      <th>26</th>\n",
              "      <td>porcentaje_uso_limite_de_cuenta</td>\n",
              "      <td>-0.328149</td>\n",
              "    </tr>\n",
              "    <tr>\n",
              "      <th>10</th>\n",
              "      <td>banco_count</td>\n",
              "      <td>-0.289833</td>\n",
              "    </tr>\n",
              "    <tr>\n",
              "      <th>15</th>\n",
              "      <td>times_increased</td>\n",
              "      <td>-0.222984</td>\n",
              "    </tr>\n",
              "    <tr>\n",
              "      <th>30</th>\n",
              "      <td>year</td>\n",
              "      <td>-0.222793</td>\n",
              "    </tr>\n",
              "    <tr>\n",
              "      <th>3</th>\n",
              "      <td>mean_credit</td>\n",
              "      <td>-0.203291</td>\n",
              "    </tr>\n",
              "    <tr>\n",
              "      <th>7</th>\n",
              "      <td>total_utilizacion</td>\n",
              "      <td>-0.176841</td>\n",
              "    </tr>\n",
              "    <tr>\n",
              "      <th>20</th>\n",
              "      <td>antiguedad_meses</td>\n",
              "      <td>-0.134563</td>\n",
              "    </tr>\n",
              "    <tr>\n",
              "      <th>12</th>\n",
              "      <td>banco_utilizacion</td>\n",
              "      <td>-0.046866</td>\n",
              "    </tr>\n",
              "    <tr>\n",
              "      <th>6</th>\n",
              "      <td>total_balance</td>\n",
              "      <td>-0.038337</td>\n",
              "    </tr>\n",
              "    <tr>\n",
              "      <th>28</th>\n",
              "      <td>porcentaje_compras_mci</td>\n",
              "      <td>-0.006034</td>\n",
              "    </tr>\n",
              "    <tr>\n",
              "      <th>27</th>\n",
              "      <td>porcentaje_compras_msi</td>\n",
              "      <td>0.002900</td>\n",
              "    </tr>\n",
              "    <tr>\n",
              "      <th>1</th>\n",
              "      <td>num_cuentas_cerradas</td>\n",
              "      <td>0.012337</td>\n",
              "    </tr>\n",
              "    <tr>\n",
              "      <th>32</th>\n",
              "      <td>day</td>\n",
              "      <td>0.020511</td>\n",
              "    </tr>\n",
              "    <tr>\n",
              "      <th>29</th>\n",
              "      <td>porcentaje_rubros_basicos</td>\n",
              "      <td>0.024411</td>\n",
              "    </tr>\n",
              "    <tr>\n",
              "      <th>16</th>\n",
              "      <td>max_increase</td>\n",
              "      <td>0.033955</td>\n",
              "    </tr>\n",
              "    <tr>\n",
              "      <th>17</th>\n",
              "      <td>min_increase</td>\n",
              "      <td>0.034139</td>\n",
              "    </tr>\n",
              "    <tr>\n",
              "      <th>5</th>\n",
              "      <td>mean_balance</td>\n",
              "      <td>0.034506</td>\n",
              "    </tr>\n",
              "    <tr>\n",
              "      <th>9</th>\n",
              "      <td>pagos_vencidos</td>\n",
              "      <td>0.059602</td>\n",
              "    </tr>\n",
              "    <tr>\n",
              "      <th>8</th>\n",
              "      <td>monto_en_mora</td>\n",
              "      <td>0.067745</td>\n",
              "    </tr>\n",
              "    <tr>\n",
              "      <th>31</th>\n",
              "      <td>month</td>\n",
              "      <td>0.120245</td>\n",
              "    </tr>\n",
              "    <tr>\n",
              "      <th>25</th>\n",
              "      <td>total_gastos</td>\n",
              "      <td>0.176665</td>\n",
              "    </tr>\n",
              "    <tr>\n",
              "      <th>19</th>\n",
              "      <td>facturacion_rappicard_mes_anterior</td>\n",
              "      <td>0.179404</td>\n",
              "    </tr>\n",
              "    <tr>\n",
              "      <th>11</th>\n",
              "      <td>banco_limite</td>\n",
              "      <td>0.244427</td>\n",
              "    </tr>\n",
              "    <tr>\n",
              "      <th>23</th>\n",
              "      <td>pago_para_no_generar_interes</td>\n",
              "      <td>0.307292</td>\n",
              "    </tr>\n",
              "    <tr>\n",
              "      <th>0</th>\n",
              "      <td>num_cuentas_activas</td>\n",
              "      <td>0.371276</td>\n",
              "    </tr>\n",
              "    <tr>\n",
              "      <th>24</th>\n",
              "      <td>total_pagos</td>\n",
              "      <td>0.653816</td>\n",
              "    </tr>\n",
              "    <tr>\n",
              "      <th>2</th>\n",
              "      <td>max_credit</td>\n",
              "      <td>1.574059</td>\n",
              "    </tr>\n",
              "    <tr>\n",
              "      <th>22</th>\n",
              "      <td>pago_minimo_al_corte</td>\n",
              "      <td>2.195876</td>\n",
              "    </tr>\n",
              "    <tr>\n",
              "      <th>18</th>\n",
              "      <td>dias_de_impagador</td>\n",
              "      <td>3.235524</td>\n",
              "    </tr>\n",
              "  </tbody>\n",
              "</table>\n",
              "</div>\n",
              "    <div class=\"colab-df-buttons\">\n",
              "\n",
              "  <div class=\"colab-df-container\">\n",
              "    <button class=\"colab-df-convert\" onclick=\"convertToInteractive('df-9e91f1c5-cd85-4e1c-9534-a9ac95b0f194')\"\n",
              "            title=\"Convert this dataframe to an interactive table.\"\n",
              "            style=\"display:none;\">\n",
              "\n",
              "  <svg xmlns=\"http://www.w3.org/2000/svg\" height=\"24px\" viewBox=\"0 -960 960 960\">\n",
              "    <path d=\"M120-120v-720h720v720H120Zm60-500h600v-160H180v160Zm220 220h160v-160H400v160Zm0 220h160v-160H400v160ZM180-400h160v-160H180v160Zm440 0h160v-160H620v160ZM180-180h160v-160H180v160Zm440 0h160v-160H620v160Z\"/>\n",
              "  </svg>\n",
              "    </button>\n",
              "\n",
              "  <style>\n",
              "    .colab-df-container {\n",
              "      display:flex;\n",
              "      gap: 12px;\n",
              "    }\n",
              "\n",
              "    .colab-df-convert {\n",
              "      background-color: #E8F0FE;\n",
              "      border: none;\n",
              "      border-radius: 50%;\n",
              "      cursor: pointer;\n",
              "      display: none;\n",
              "      fill: #1967D2;\n",
              "      height: 32px;\n",
              "      padding: 0 0 0 0;\n",
              "      width: 32px;\n",
              "    }\n",
              "\n",
              "    .colab-df-convert:hover {\n",
              "      background-color: #E2EBFA;\n",
              "      box-shadow: 0px 1px 2px rgba(60, 64, 67, 0.3), 0px 1px 3px 1px rgba(60, 64, 67, 0.15);\n",
              "      fill: #174EA6;\n",
              "    }\n",
              "\n",
              "    .colab-df-buttons div {\n",
              "      margin-bottom: 4px;\n",
              "    }\n",
              "\n",
              "    [theme=dark] .colab-df-convert {\n",
              "      background-color: #3B4455;\n",
              "      fill: #D2E3FC;\n",
              "    }\n",
              "\n",
              "    [theme=dark] .colab-df-convert:hover {\n",
              "      background-color: #434B5C;\n",
              "      box-shadow: 0px 1px 3px 1px rgba(0, 0, 0, 0.15);\n",
              "      filter: drop-shadow(0px 1px 2px rgba(0, 0, 0, 0.3));\n",
              "      fill: #FFFFFF;\n",
              "    }\n",
              "  </style>\n",
              "\n",
              "    <script>\n",
              "      const buttonEl =\n",
              "        document.querySelector('#df-9e91f1c5-cd85-4e1c-9534-a9ac95b0f194 button.colab-df-convert');\n",
              "      buttonEl.style.display =\n",
              "        google.colab.kernel.accessAllowed ? 'block' : 'none';\n",
              "\n",
              "      async function convertToInteractive(key) {\n",
              "        const element = document.querySelector('#df-9e91f1c5-cd85-4e1c-9534-a9ac95b0f194');\n",
              "        const dataTable =\n",
              "          await google.colab.kernel.invokeFunction('convertToInteractive',\n",
              "                                                    [key], {});\n",
              "        if (!dataTable) return;\n",
              "\n",
              "        const docLinkHtml = 'Like what you see? Visit the ' +\n",
              "          '<a target=\"_blank\" href=https://colab.research.google.com/notebooks/data_table.ipynb>data table notebook</a>'\n",
              "          + ' to learn more about interactive tables.';\n",
              "        element.innerHTML = '';\n",
              "        dataTable['output_type'] = 'display_data';\n",
              "        await google.colab.output.renderOutput(dataTable, element);\n",
              "        const docLink = document.createElement('div');\n",
              "        docLink.innerHTML = docLinkHtml;\n",
              "        element.appendChild(docLink);\n",
              "      }\n",
              "    </script>\n",
              "  </div>\n",
              "\n",
              "\n",
              "<div id=\"df-0540c16a-61d3-423e-8227-00d3b0215807\">\n",
              "  <button class=\"colab-df-quickchart\" onclick=\"quickchart('df-0540c16a-61d3-423e-8227-00d3b0215807')\"\n",
              "            title=\"Suggest charts\"\n",
              "            style=\"display:none;\">\n",
              "\n",
              "<svg xmlns=\"http://www.w3.org/2000/svg\" height=\"24px\"viewBox=\"0 0 24 24\"\n",
              "     width=\"24px\">\n",
              "    <g>\n",
              "        <path d=\"M19 3H5c-1.1 0-2 .9-2 2v14c0 1.1.9 2 2 2h14c1.1 0 2-.9 2-2V5c0-1.1-.9-2-2-2zM9 17H7v-7h2v7zm4 0h-2V7h2v10zm4 0h-2v-4h2v4z\"/>\n",
              "    </g>\n",
              "</svg>\n",
              "  </button>\n",
              "\n",
              "<style>\n",
              "  .colab-df-quickchart {\n",
              "      --bg-color: #E8F0FE;\n",
              "      --fill-color: #1967D2;\n",
              "      --hover-bg-color: #E2EBFA;\n",
              "      --hover-fill-color: #174EA6;\n",
              "      --disabled-fill-color: #AAA;\n",
              "      --disabled-bg-color: #DDD;\n",
              "  }\n",
              "\n",
              "  [theme=dark] .colab-df-quickchart {\n",
              "      --bg-color: #3B4455;\n",
              "      --fill-color: #D2E3FC;\n",
              "      --hover-bg-color: #434B5C;\n",
              "      --hover-fill-color: #FFFFFF;\n",
              "      --disabled-bg-color: #3B4455;\n",
              "      --disabled-fill-color: #666;\n",
              "  }\n",
              "\n",
              "  .colab-df-quickchart {\n",
              "    background-color: var(--bg-color);\n",
              "    border: none;\n",
              "    border-radius: 50%;\n",
              "    cursor: pointer;\n",
              "    display: none;\n",
              "    fill: var(--fill-color);\n",
              "    height: 32px;\n",
              "    padding: 0;\n",
              "    width: 32px;\n",
              "  }\n",
              "\n",
              "  .colab-df-quickchart:hover {\n",
              "    background-color: var(--hover-bg-color);\n",
              "    box-shadow: 0 1px 2px rgba(60, 64, 67, 0.3), 0 1px 3px 1px rgba(60, 64, 67, 0.15);\n",
              "    fill: var(--button-hover-fill-color);\n",
              "  }\n",
              "\n",
              "  .colab-df-quickchart-complete:disabled,\n",
              "  .colab-df-quickchart-complete:disabled:hover {\n",
              "    background-color: var(--disabled-bg-color);\n",
              "    fill: var(--disabled-fill-color);\n",
              "    box-shadow: none;\n",
              "  }\n",
              "\n",
              "  .colab-df-spinner {\n",
              "    border: 2px solid var(--fill-color);\n",
              "    border-color: transparent;\n",
              "    border-bottom-color: var(--fill-color);\n",
              "    animation:\n",
              "      spin 1s steps(1) infinite;\n",
              "  }\n",
              "\n",
              "  @keyframes spin {\n",
              "    0% {\n",
              "      border-color: transparent;\n",
              "      border-bottom-color: var(--fill-color);\n",
              "      border-left-color: var(--fill-color);\n",
              "    }\n",
              "    20% {\n",
              "      border-color: transparent;\n",
              "      border-left-color: var(--fill-color);\n",
              "      border-top-color: var(--fill-color);\n",
              "    }\n",
              "    30% {\n",
              "      border-color: transparent;\n",
              "      border-left-color: var(--fill-color);\n",
              "      border-top-color: var(--fill-color);\n",
              "      border-right-color: var(--fill-color);\n",
              "    }\n",
              "    40% {\n",
              "      border-color: transparent;\n",
              "      border-right-color: var(--fill-color);\n",
              "      border-top-color: var(--fill-color);\n",
              "    }\n",
              "    60% {\n",
              "      border-color: transparent;\n",
              "      border-right-color: var(--fill-color);\n",
              "    }\n",
              "    80% {\n",
              "      border-color: transparent;\n",
              "      border-right-color: var(--fill-color);\n",
              "      border-bottom-color: var(--fill-color);\n",
              "    }\n",
              "    90% {\n",
              "      border-color: transparent;\n",
              "      border-bottom-color: var(--fill-color);\n",
              "    }\n",
              "  }\n",
              "</style>\n",
              "\n",
              "  <script>\n",
              "    async function quickchart(key) {\n",
              "      const quickchartButtonEl =\n",
              "        document.querySelector('#' + key + ' button');\n",
              "      quickchartButtonEl.disabled = true;  // To prevent multiple clicks.\n",
              "      quickchartButtonEl.classList.add('colab-df-spinner');\n",
              "      try {\n",
              "        const charts = await google.colab.kernel.invokeFunction(\n",
              "            'suggestCharts', [key], {});\n",
              "      } catch (error) {\n",
              "        console.error('Error during call to suggestCharts:', error);\n",
              "      }\n",
              "      quickchartButtonEl.classList.remove('colab-df-spinner');\n",
              "      quickchartButtonEl.classList.add('colab-df-quickchart-complete');\n",
              "    }\n",
              "    (() => {\n",
              "      let quickchartButtonEl =\n",
              "        document.querySelector('#df-0540c16a-61d3-423e-8227-00d3b0215807 button');\n",
              "      quickchartButtonEl.style.display =\n",
              "        google.colab.kernel.accessAllowed ? 'block' : 'none';\n",
              "    })();\n",
              "  </script>\n",
              "</div>\n",
              "\n",
              "    </div>\n",
              "  </div>\n"
            ],
            "application/vnd.google.colaboratory.intrinsic+json": {
              "type": "dataframe",
              "summary": "{\n  \"name\": \"coefs\",\n  \"rows\": 33,\n  \"fields\": [\n    {\n      \"column\": \"feature\",\n      \"properties\": {\n        \"dtype\": \"string\",\n        \"num_unique_values\": 33,\n        \"samples\": [\n          \"pago_minimo_al_corte\",\n          \"num_cuentas_cerradas\",\n          \"banco_limite\"\n        ],\n        \"semantic_type\": \"\",\n        \"description\": \"\"\n      }\n    },\n    {\n      \"column\": \"coefficient\",\n      \"properties\": {\n        \"dtype\": \"number\",\n        \"std\": 0.8433563138566563,\n        \"min\": -1.94305343325554,\n        \"max\": 3.2355241430795934,\n        \"num_unique_values\": 33,\n        \"samples\": [\n          2.195876037638397,\n          0.012337174382671219,\n          0.24442745228196586\n        ],\n        \"semantic_type\": \"\",\n        \"description\": \"\"\n      }\n    }\n  ]\n}"
            }
          },
          "metadata": {},
          "execution_count": 109
        }
      ]
    },
    {
      "cell_type": "markdown",
      "source": [
        "De acuerdo a los coeficientes del modelo de Regresión Logística y debido a la estandarización de todos los campos de la base, un aumento en una desviación estándar -la cual es de $2361- de la línea de crédito aumentará en aproximadamente 3% la probabilidad de impago. Esto es muy similar para el incremento máximo y mínimo según los coeficientes mostrados por el modelo.\n",
        "\n",
        "Para elaborar una estrategia de incremento de crédito que minimice el riesgo de impago, sería necesario fijarse en otras variables del modelo que actúen en dirección contraria al incremento de probabilidad de impago. Al explorar la magnitud y signo de los coeficientes, se observa que la variable de crédito total en Buró de Crédito va en dirección opuesta a la probabilidad de impago, esto tiene sentido ya que un cliente con altos niveles de crédito necesita comprobar un ingreso que pueda pagarlos. De igual manera, el límite de crédito en RappiCard y el monto de las líneas de crédito en RappiCard funcionan como reflejo de la situación financiera de los clientes. La quinta variable más importante, el porcentaje del uso límite de la cuenta, se puede relacionar con la conducta del cliente hacia su crédito y cómo se comporta con respecto al límite de crédito asignado.\n",
        "Las cinco variables consideradas anteriormente pueden ayudar a elaborar la estrategia de asignación de incrementos de crédito, al reflejar características deseables de clientes que tienen baja probabilidad de caer en impago pueden ser consideradas para filtrar y determinar clientes que sean candidatos a un aumento en su línea de crédito. Para lograr esto, un buen inicio sería tomar los resultados de este modelo como base e ingresar los datos del cliente respecto a las variables mencionadas anteriormente en la fórmula extendida de regresión logística para ver su probabilidad de impago, obteniendo así una probabilidad de impago dadas las características guardadas del cliente. Con esto, se podría determinar un límite inferior de probabilidad de impago y determinar los clientes a los que se podría ofrecer el incremento."
      ],
      "metadata": {
        "id": "V8xvuF_NBSpQ"
      }
    },
    {
      "cell_type": "code",
      "source": [
        "df.max_increase.std()"
      ],
      "metadata": {
        "colab": {
          "base_uri": "https://localhost:8080/"
        },
        "id": "atynFcXxAYmj",
        "outputId": "9fa3b170-ffbd-45c4-8f01-352a8b5ff9eb"
      },
      "execution_count": 107,
      "outputs": [
        {
          "output_type": "execute_result",
          "data": {
            "text/plain": [
              "2361.7612814167287"
            ]
          },
          "metadata": {},
          "execution_count": 107
        }
      ]
    },
    {
      "cell_type": "markdown",
      "source": [
        "##5"
      ],
      "metadata": {
        "id": "nwpU4rP0bC3P"
      }
    },
    {
      "cell_type": "markdown",
      "source": [
        "Con los insights obtenidos en las preguntas previas, para determinar a qué clientes brindarles un aumento en su línea de crédito empezaría por utilizar los modelos creados para calcular su probabilidad de impago dadas todas sus características. Un VotingClassifier podría ser una opción para utilizar ambos modelos y agregaría algún modelo de boosting para tener un número impar de modelos.\n",
        "\n",
        "Teniendo la predicción de impago de acuerdo al modelo de votación, buscaría a aquellos clientes por encima de cierto límite para determinar el grupo candidato a aumentos.\n",
        "Este límite de probabilidad de impago habría que ser consultado con información histórica para determinar cuál es el nivel de riesgo que se quiere asumir."
      ],
      "metadata": {
        "id": "UT4PYYnlbJgh"
      }
    },
    {
      "cell_type": "markdown",
      "source": [
        "## 6"
      ],
      "metadata": {
        "id": "eWP8PywTgIay"
      }
    },
    {
      "cell_type": "markdown",
      "source": [
        "Existen múltiples formas de determinar el monto de aumento de créditos dado que ya se conoce la probabilidad de impago de este grupo, tanto predicha como observada. Además, se asume que los clientes se van a seguir comportando como se comportaron previamente.\n",
        "\n",
        "En este caso se podría empezar por preguntar cuál es la ganancia que se busca obtener al aumentar estas líneas de crédito en función del crédito total y el porcentage de utilización.\n",
        "\n",
        "Se empieza por determinar cuál es la ganancia dado el nivel de crédito. Este se calcula determinando el nivel de ganancia que se obtiene del monto utilizado de créditos, que es el límite de crédito actual de cada cliente multiplicado por su porcentaje de utilización de crédito. De esta manera se obtiene el monto real que están pagando los clientes con su tarjeta.\n",
        "\n",
        "Obtenido el monto utilizado de crédito por cliente, se puede obtener el monto utilizado total y por lo tanto el nivel de ganancia obtenido de éste (de datos financieros de la empresa). Obtenidas estas cifras se puede calcular cuánto tendría que incrementar el crédito para obtener la ganancia objetivo, pero se tiene que tomar en cuenta la probabilidad de impago en este grupo que se minimizó pero sigue siendo mayor a cero. Para compensar este riesgo de impago, se divide por la probabilidad de no impago, aumentando ligeramente el monto de crédito pero si todo lo demás se mantiene igual compensaría las pérdidas por impago.\n",
        "\n",
        "La diferencia entre el monto utilizado total original y el nuevo calculado se puede determinar como el nivel de crédito por asignar para todo el grupo de clientes. Al tener clientes con distintos niveles de crédito y características de riesgo no se puede asigar a todos el mismo aumento, por lo que se puede buscar aumentar el crédito de manera proporcional a su monto de crédito actual ya sea con algún tipo de pesos para no asignar demasiado a aquellos con créditos muy grandes ni muy poco a aquellos con créditos pequeños.\n"
      ],
      "metadata": {
        "id": "yBIZcTLZhyTU"
      }
    },
    {
      "cell_type": "code",
      "source": [],
      "metadata": {
        "id": "9Na9tL07l8Ow"
      },
      "execution_count": null,
      "outputs": []
    }
  ]
}